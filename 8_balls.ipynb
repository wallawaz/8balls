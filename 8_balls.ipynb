{
 "metadata": {
  "name": "",
  "signature": "sha256:21afddb13fe4a11a6a253ebb9fdabcb9c9d7402fd83fea4e510332889e49c21b"
 },
 "nbformat": 3,
 "nbformat_minor": 0,
 "worksheets": [
  {
   "cells": [
    {
     "cell_type": "code",
     "collapsed": false,
     "input": [
      "#create set\n",
      "import random\n",
      "balls = {}\n",
      "for i in range(0,8): balls['b'+str(i)] = 1\n",
      "rand_b = 'b' +str( random.randrange(0,9) )\n",
      "balls[rand_b] = 2\n",
      "balls"
     ],
     "language": "python",
     "metadata": {},
     "outputs": [
      {
       "metadata": {},
       "output_type": "pyout",
       "prompt_number": 317,
       "text": [
        "{'b0': 1, 'b1': 1, 'b2': 1, 'b3': 1, 'b4': 1, 'b5': 1, 'b6': 2, 'b7': 1}"
       ]
      }
     ],
     "prompt_number": 317
    },
    {
     "cell_type": "code",
     "collapsed": false,
     "input": [
      "b3=[]\n",
      "b2=[]\n",
      "\n",
      "for i in range (0, 6): b3.append('b' + str(i))\n",
      "for i in range (6, 8): b2.append('b' + str(i))"
     ],
     "language": "python",
     "metadata": {},
     "outputs": [],
     "prompt_number": 318
    },
    {
     "cell_type": "code",
     "collapsed": false,
     "input": [
      "sum3a = 0\n",
      "sum3b = 0\n",
      "\n",
      "# 1st 3 balls in set b3\n",
      "for i in range(len(balls3)/2):\n",
      "    sum3a +=  balls[str('b')+str(i)]\n",
      "\n",
      "# last 3 balls in set b3\n",
      "for i in range(len(balls3)/2):\n",
      "    sum3b +=  balls[str('b')+str(i+3)]\n",
      "\n",
      "# If 3x3 is equal, then just find heavier of set 2.\n",
      "if sum3a == sum3b:\n",
      "    #print b2[0], balls[b2[0]]\n",
      "    #print b2[1], balls[b2[1]]\n",
      "    if balls[ b2[0] ] > balls[ b2[1] ]:\n",
      "        max_ball = b2[0]\n",
      "    else:\n",
      "        max_ball = b2[1]\n",
      "\n",
      "# If 3x3 is not equal\n",
      "elif sum3a > sum3b:\n",
      "    if balls[ b3[0] ] == balls[ b3[1] ]:\n",
      "        max_ball = b3[2]\n",
      "    elif balls[ b3[0] ] > balls[ b3[1] ]:\n",
      "        max_ball = b3[0]\n",
      "    else:\n",
      "        max_ball = b3[1]\n",
      "        \n",
      "else:\n",
      "    if balls[ b3[3] ] == balls[ b3[4] ]:\n",
      "        max_ball = b3[5]\n",
      "    elif balls[ b3[3] ] > balls[ b3[4] ]:\n",
      "        max_ball = b3[3]\n",
      "    else:\n",
      "        max_ball = b3[4]\n",
      "        \n",
      "\n",
      "print max_ball        \n"
     ],
     "language": "python",
     "metadata": {},
     "outputs": [
      {
       "output_type": "stream",
       "stream": "stdout",
       "text": [
        "b6\n"
       ]
      }
     ],
     "prompt_number": 316
    },
    {
     "cell_type": "code",
     "collapsed": false,
     "input": [],
     "language": "python",
     "metadata": {},
     "outputs": [],
     "prompt_number": 220
    },
    {
     "cell_type": "code",
     "collapsed": false,
     "input": [],
     "language": "python",
     "metadata": {},
     "outputs": []
    }
   ],
   "metadata": {}
  }
 ]
}